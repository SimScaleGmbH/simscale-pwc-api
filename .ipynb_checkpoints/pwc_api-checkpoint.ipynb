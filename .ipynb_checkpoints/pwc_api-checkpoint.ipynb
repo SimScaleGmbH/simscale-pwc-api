{
 "cells": [
  {
   "cell_type": "markdown",
   "id": "83a49a68-c522-4c3a-8b6e-47377515962f",
   "metadata": {},
   "source": [
    "# Pedestrian Wind Comfort Simulations Using the SimScale API "
   ]
  },
  {
   "cell_type": "code",
   "execution_count": 14,
   "id": "d419a964-085c-4222-b733-0692ae85a5ba",
   "metadata": {},
   "outputs": [],
   "source": [
    "import utilities as util \n",
    "import pathlib "
   ]
  },
  {
   "cell_type": "code",
   "execution_count": 15,
   "id": "ece8600d-e478-43bb-818e-253702ad776d",
   "metadata": {},
   "outputs": [],
   "source": [
    "pwc = util.PedestrianWindComfort()"
   ]
  },
  {
   "cell_type": "markdown",
   "id": "ea814b86-2f59-4f5f-bdd5-f606d291f853",
   "metadata": {},
   "source": [
    "## Define Simulation Settings"
   ]
  },
  {
   "cell_type": "markdown",
   "id": "dbf7652e-5b7a-4ab0-a9be-490a29ef24ac",
   "metadata": {
    "tags": []
   },
   "source": [
    "### Setup the API Connection"
   ]
  },
  {
   "cell_type": "code",
   "execution_count": 16,
   "id": "618daa4a-62f8-413e-87ea-e3cf57bf185c",
   "metadata": {},
   "outputs": [
    {
     "name": "stdout",
     "output_type": "stream",
     "text": [
      "SimScale API Key and URL found in environment variables.\n"
     ]
    }
   ],
   "source": [
    "pwc.set_api_connection()"
   ]
  },
  {
   "cell_type": "markdown",
   "id": "df7d7551-d95e-48b2-b526-57465e449196",
   "metadata": {},
   "source": [
    "### Create Project "
   ]
  },
  {
   "cell_type": "code",
   "execution_count": 17,
   "id": "96cea875-7d55-4bf9-bf33-eab5add0b4f6",
   "metadata": {
    "tags": []
   },
   "outputs": [
    {
     "name": "stdout",
     "output_type": "stream",
     "text": [
      "Project found: \n",
      "pwc_test_bristol\n",
      "Cannot create project with the same name, using existing project\n"
     ]
    }
   ],
   "source": [
    "pwc.create_project(\"pwc_test_bristol\", \"123\")"
   ]
  },
  {
   "cell_type": "markdown",
   "id": "6a4ea310-13fd-48fb-b736-e8e91795aba0",
   "metadata": {
    "tags": []
   },
   "source": [
    "### Upload Geometry"
   ]
  },
  {
   "cell_type": "markdown",
   "id": "a57adad3-f9b5-49db-908d-da6cdd6bfc93",
   "metadata": {},
   "source": [
    "Provide the name of the files to upload, if it is a directory simply give the name, if it is a file then add the file extension to the name ex: example.stl"
   ]
  },
  {
   "cell_type": "code",
   "execution_count": 20,
   "id": "a08335cf-afb8-4edd-bcc2-5516a81cfc22",
   "metadata": {},
   "outputs": [],
   "source": [
    "\"\"\"Upload Geometry\"\"\"\n",
    "#Provide the name of the files to upload, if it is a directory simply give the name,\n",
    "#if it is a file then add the file extension to the name ex: example.stl\n",
    "\n",
    "name_of_files_to_upload = [\"AccucitiesBristol\"] #AccucitiesBristol\n",
    "\n",
    "base_path = pathlib.Path().cwd() / \"Geometries\" \n",
    "geometry_path = pwc.zip_cad_for_upload(name_of_files_to_upload,base_path)\n",
    "\n",
    "#Keys are just a name that is a reference. Values are the layer names that are predefined in the CAD tool\n",
    "layers  = {\"terrain\" : \"Terrain\", \"terrain_patches\" : \"TerrainPatches\",\n",
    "            \"roads\" : \"Roads\", \"Man_made_surfaces\" : \"ManMadeSurfaces\",\n",
    "            \"buidlings\" : \"Buildings\", \"extended_terrain\" : \"ExtendedTerrain\"}  \n",
    "\n",
    "\n",
    "entities = []\n",
    "num_WD = 8\n"
   ]
  },
  {
   "cell_type": "markdown",
   "id": "c4f73e4b-8972-44b1-969d-5ef0af5dc306",
   "metadata": {
    "tags": []
   },
   "source": [
    "### 3 Step Simulation Setup"
   ]
  },
  {
   "cell_type": "markdown",
   "id": "fb58c493-0011-4ffd-9f05-d66d4757b09b",
   "metadata": {},
   "source": [
    "Iterate over the CAD models and run the simulations of each design in parallel\n"
   ]
  },
  {
   "cell_type": "code",
   "execution_count": 21,
   "id": "ff87c5b3-ae3f-4da1-865e-5a748513136c",
   "metadata": {},
   "outputs": [
    {
     "name": "stdout",
     "output_type": "stream",
     "text": [
      "Geometry found: \n",
      "AccucitiesBristol\n",
      "Cannot upload geometry with the same name, using existing geometry\n",
      "9111487805428926850\n",
      "8435fef0-fcde-43fc-a8da-6bbef0df9717\n",
      "Terrain\n",
      "0\n",
      "entities: ['B1_TE11']\n",
      "TerrainPatches\n",
      "1\n",
      "entities: ['B1_TE10', 'B1_TE11']\n",
      "Roads\n",
      "2\n",
      "entities: ['B1_TE10', 'B1_TE11', 'B1_TE9']\n",
      "ManMadeSurfaces\n",
      "3\n",
      "entities: ['B1_TE10', 'B1_TE11', 'B1_TE8', 'B1_TE9']\n",
      "Buildings\n",
      "4\n",
      "entities: ['B1_TE10', 'B1_TE11', 'B1_TE4', 'B1_TE8', 'B1_TE9']\n",
      "ExtendedTerrain\n",
      "5\n",
      "entities: ['B1_TE10', 'B1_TE11', 'B1_TE4', 'B1_TE5', 'B1_TE8', 'B1_TE9']\n",
      "Importing wind data from Meteoblue..\n",
      "['B1_TE11', 'B1_TE9', 'B1_TE11']\n",
      "simulationId: edf8ce2a-4cb7-42b6-badf-03fc6d38cf7f\n",
      "Simulation check warnings: []\n",
      "**********\n",
      "Simulation estimation:\n",
      "Number of cells: 3427182 - 5140774\n",
      "----------\n",
      "GPUh consumption: 1.44 - 2.16\n",
      "----------\n",
      "Simulation Time: 26M - 1H6M\n",
      "**********\n",
      "runId: 0e5fda0f-1dec-4fb7-b5ad-8119c4b1a5d9\n"
     ]
    }
   ],
   "source": [
    "#Iterate over the CAD models and run the simulations of each design in parallel\n",
    "for i, cad in enumerate(name_of_files_to_upload): \n",
    "    #Upload the list of provided CAD models to the SimScale project\n",
    "    \n",
    "    pwc.upload_geometry(cad, geometry_path[i])\n",
    "    print(pwc.project_id)\n",
    "    print(pwc.geometry_id)\n",
    "    \n",
    "    for i , (key, value)in enumerate(layers.items()) :\n",
    "        print(value)\n",
    "        print(i)\n",
    "        entities.append(value)\n",
    "        #Get geometry mappings\n",
    "        pwc.get_geometry_mapping(pwc.project_id, pwc.geometry_id, \n",
    "                                 entities_list= entities, layer_key = key, layer_number = i)\n",
    "        \n",
    "\n",
    "    \"\"\"Simulation Setup\"\"\"\n",
    "    \"\"\"STEP 1: Region Of Interest\"\"\"\n",
    "    #Uncomment the function below only if you plan to define a custom WT\n",
    "    # pwc.set_custom_wt_size(height_ext = 200, side_ext = 200,\n",
    "    #                        inflow_ext = 200, outflow_ext = 500)\n",
    "    \n",
    "    pwc.set_region_of_interest(radius = 250, center = [0,0], ground_height = 5, \n",
    "                                north_angle = 0, \n",
    "                                wt_size = 'moderate') #moderate, large, custom \n",
    "    \n",
    "    \"\"\"STEP 2: The Wind Conditions\"\"\"\n",
    "    #Define information that characterizes the incoming wind\n",
    "    pwc.set_geographical_location(latitude = 42.3600825, longitude = -71.0588801)\n",
    "    pwc.set_num_wind_directions(num_WD)\n",
    "    pwc.set_wind_engineering_standard(\"EU\") #[\"EU\", \"AS_NZS\", \"NEN8100\", \"LONDON\"]\n",
    "    pwc.set_wind_exposure_category([\"EC2\"]* num_WD) #[\"EC1\", \"EC2\", \"EC3\", \"EC4\", \"EC5\", \"EC6\"]\n",
    "    pwc.set_surface_roughness(surface_roughness= True)\n",
    "    pwc.set_wind_data_source(\"METEOBLUE\") #METEOBLUE, USER_UPLOAD\n",
    "    pwc.set_wind_rose()\n",
    "    \n",
    "    \"\"\"STEP 3: Pedestrian Comfort Map\"\"\"\n",
    "    pwc.set_pedestrian_comfort_map_name(\"ComfortMap1\")\n",
    "    pwc.set_height_above_ground(2)\n",
    "    pwc.set_pedestrian_comfort_ground_absolute() \n",
    "    pwc.set_pedestrian_comfort_map()\n",
    "    \n",
    "    pwc.add_more_comfort_maps(\"ComfortMap2\", 3, \"relative\",\n",
    "                              layers_key = ['terrain', 'roads', 'terrain_patches']) # call this for each new comfort map \n",
    "    \n",
    "    \"\"\"Simulation Control\"\"\"\n",
    "    pwc.set_maximum_run_time(10000)\n",
    "    pwc.set_num_fluid_passes(3)\n",
    "    pwc.set_simulation_control()\n",
    "    \n",
    "    \"\"\"Mesh Settings\"\"\"\n",
    "    #call this function only when fineness is going to be set as \"TargetSize\"\n",
    "    # pwc.set_mesh_min_cell_size(0.25) \n",
    "    \n",
    "    pwc.set_mesh_fineness(\"VeryCoarse\") #VeryCoarse,Coarse,Moderate,Fine,VeryFine,TargetSize\n",
    "    pwc.set_reynolds_scaling(scaling = 0.1, auto_scale= True) #The value of scaling is used only when auto_scale = False\n",
    "    pwc.set_mesh_settings()\n",
    "    \n",
    "    \"\"\"Start Simulation\"\"\"\n",
    "    pwc.set_simulation_spec(simulation_name= \"Pedestrian Wind Comfort 1\")\n",
    "    pwc.create_simulation()\n",
    "    pwc.check_simulation_setup()\n",
    "    pwc.estimate_simulation()\n",
    "    pwc.start_simulation_run(run_name = \"{}WD\".format(num_WD))\n"
   ]
  }
 ],
 "metadata": {
  "kernelspec": {
   "display_name": "Python 3 (ipykernel)",
   "language": "python",
   "name": "python3"
  },
  "language_info": {
   "codemirror_mode": {
    "name": "ipython",
    "version": 3
   },
   "file_extension": ".py",
   "mimetype": "text/x-python",
   "name": "python",
   "nbconvert_exporter": "python",
   "pygments_lexer": "ipython3",
   "version": "3.9.12"
  }
 },
 "nbformat": 4,
 "nbformat_minor": 5
}
