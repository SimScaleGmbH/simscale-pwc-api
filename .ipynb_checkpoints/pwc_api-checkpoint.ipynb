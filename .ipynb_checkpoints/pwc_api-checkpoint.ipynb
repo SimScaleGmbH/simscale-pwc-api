{
 "cells": [
  {
   "cell_type": "markdown",
   "id": "83a49a68-c522-4c3a-8b6e-47377515962f",
   "metadata": {},
   "source": [
    "# Pedestrian Wind Comfort Simulations Using the SimScale API "
   ]
  },
  {
   "cell_type": "code",
   "execution_count": 1,
   "id": "d419a964-085c-4222-b733-0692ae85a5ba",
   "metadata": {},
   "outputs": [],
   "source": [
    "import utilities as util \n",
    "import pathlib "
   ]
  },
  {
   "cell_type": "code",
   "execution_count": 2,
   "id": "ece8600d-e478-43bb-818e-253702ad776d",
   "metadata": {},
   "outputs": [],
   "source": [
    "pwc = util.PedestrianWindComfort()\n"
   ]
  },
  {
   "cell_type": "code",
   "execution_count": null,
   "id": "5f83304c-0f67-4f19-bf23-a8de603a3a91",
   "metadata": {},
   "outputs": [],
   "source": []
  }
 ],
 "metadata": {
  "kernelspec": {
   "display_name": "Python 3 (ipykernel)",
   "language": "python",
   "name": "python3"
  },
  "language_info": {
   "codemirror_mode": {
    "name": "ipython",
    "version": 3
   },
   "file_extension": ".py",
   "mimetype": "text/x-python",
   "name": "python",
   "nbconvert_exporter": "python",
   "pygments_lexer": "ipython3",
   "version": "3.9.12"
  }
 },
 "nbformat": 4,
 "nbformat_minor": 5
}
